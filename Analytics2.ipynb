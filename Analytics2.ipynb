{
 "cells": [
  {
   "cell_type": "markdown",
   "metadata": {
    "id": "Fd3_VqqaHVAN"
   },
   "source": [
    "# Курсовая работа № 2\n",
    "## Аналитика. Начальный уровень\n",
    "\n",
    "Курсовая работа состоит из двух частей – обязательной и дополнительной. **Для зачета необходимо выполнение только первой части.** Выполнение второй части может потребовать дополнительные знания Python.\n",
    "\n",
    "- [Часть первая](#Часть-первая)\n",
    "- [Часть вторая](#Часть-вторая)"
   ]
  },
  {
   "cell_type": "markdown",
   "metadata": {
    "id": "v_LX23K6HVAQ"
   },
   "source": [
    "## Часть первая\n",
    "\n",
    "\n",
    "Перед вами стоит задача – подготовить аналитический отчет для HR-отдела. На основании проведенной аналитики предполагается составить рекомендации для отдела кадров по стратегии набора персонала, а также по взаимодействию с уже имеющимися сотрудниками.\n",
    "<br><br> В базе данных лежит набор таблиц, которые содержат данные о сотрудниках вымышленной компании.\n",
    "Сделайте обзор штата сотрудников компании. Составьте набор предметов исследования, а затем проверьте их на данных. Вся аналитика должна быть выполена с помощью SQL. Впоследствии данные можно визуализировать, однако финальные датафреймы для графиков также должны быть подготовлены с помощью SQL. <br><br>\n",
    "\n",
    "Примеры гипотез:\n",
    "1. Есть зависимость между `perfomance score` и тем, под чьим руководством работает сотрудник.\n",
    "2. Есть зависимость между продолжительностью работы в компании и семейным положением сотрудника.\n",
    "2. Есть зависимость между продолжительностью работы в компании и возрастом сотрудника.\n",
    "\n",
    "Семеное положение влияет на зарплпту, \n",
    "возраст влияет на ошибки\n",
    "возраст плюс семейное положение продолжительность работы в компании как влияют на зарплату\n",
    "dsstudents.skillbox.ru`, порт – `5432`, имя базы данных – `human_resources`, пользователь – `readonly`, пароль – `6hajV34RTQfmxhS`. Таблицы, доступные для анализа, – `hr_dataset`, `production_staff`, `recruiting_costs`, `salary_grid`."
   ]
  },
  {
   "cell_type": "markdown",
   "metadata": {},
   "source": [
    "# Проверим следующие гипотезы:\n",
    "1. Возраст сотрудника влияет на качество его работы. Среднее количество ошибок за день связано с возрастом.\n",
    "2. Возраст сотрудника влияет на величину заработной платы.\n",
    "3. Семеное положение влияет на количество ошибок.\n",
    "4. Семеное положение влияет на величину заработной платы.\n",
    "5. Количество ошибок сотрудников компании зависит от материального положения сотрудника.\n",
    "6. Возраст и пол сотрудника влияют на количество ошибок.\n",
    "7. Возраст и пол сотрудника влияют на зарплату.\n",
    "8. Чем больше лет сотрудник работает в компании, тем меньше ошибок он совершает.\n",
    "9. Чем больше лет сотрудник работает в компании, тем выше его зработная плата.\n",
    "10. Сотрудник являющийся гражданином Соединенных Штатов Америки более добросовестно выполняет работу и меньше допускает ежедневных ошибок."
   ]
  },
  {
   "cell_type": "markdown",
   "metadata": {},
   "source": []
  },
  {
   "cell_type": "code",
   "execution_count": 1,
   "metadata": {
    "colab": {
     "base_uri": "https://localhost:8080/",
     "height": 35
    },
    "id": "7b1vJYVrHVAR",
    "outputId": "fc1b572c-2361-4273-f105-f2ea209d99a2"
   },
   "outputs": [
    {
     "name": "stdout",
     "output_type": "stream",
     "text": [
      "<class 'pandas.core.frame.DataFrame'>\n",
      "RangeIndex: 310 entries, 0 to 309\n",
      "Data columns (total 29 columns):\n",
      " #   Column               Non-Null Count  Dtype  \n",
      "---  ------               --------------  -----  \n",
      " 0   id                   310 non-null    int64  \n",
      " 1   Employee Name        310 non-null    object \n",
      " 2   Employee Number      310 non-null    int64  \n",
      " 3   marriedid            310 non-null    int64  \n",
      " 4   maritalstatusid      310 non-null    int64  \n",
      " 5   genderid             310 non-null    int64  \n",
      " 6   empstatus_id         310 non-null    int64  \n",
      " 7   deptid               310 non-null    int64  \n",
      " 8   perf_scoreid         310 non-null    int64  \n",
      " 9   age                  310 non-null    int64  \n",
      " 10  Pay Rate             310 non-null    float64\n",
      " 11  state                310 non-null    object \n",
      " 12  zip                  310 non-null    int64  \n",
      " 13  dob                  310 non-null    object \n",
      " 14  sex                  310 non-null    object \n",
      " 15  maritaldesc          310 non-null    object \n",
      " 16  citizendesc          310 non-null    object \n",
      " 17  Hispanic/Latino      310 non-null    object \n",
      " 18  racedesc             310 non-null    object \n",
      " 19  Date of Hire         310 non-null    object \n",
      " 20  Days Employed        310 non-null    int64  \n",
      " 21  Date of Termination  103 non-null    object \n",
      " 22  Reason For Term      310 non-null    object \n",
      " 23  Employment Status    310 non-null    object \n",
      " 24  department           310 non-null    object \n",
      " 25  position             310 non-null    object \n",
      " 26  Manager Name         310 non-null    object \n",
      " 27  Employee Source      310 non-null    object \n",
      " 28  Performance Score    310 non-null    object \n",
      "dtypes: float64(1), int64(11), object(17)\n",
      "memory usage: 70.4+ KB\n"
     ]
    }
   ],
   "source": [
    "# Импорт библиотек Psycopg2, Numpy, Pandas\n",
    "import psycopg2\n",
    "import numpy as np\n",
    "import pandas as pd\n",
    "import seaborn as sns\n",
    "from matplotlib import pyplot as plt\n",
    "\n",
    "\n",
    "# Подключение к базе данных PostgreSQL\n",
    "conn = psycopg2.connect(**{'host': 'dsstudents.skillbox.ru', \n",
    "                           'port': 5432, \n",
    "                           'dbname': 'human_resources', \n",
    "                           'user': 'readonly', \n",
    "                           'password': '6hajV34RTQfmxhS'})\n",
    "\n",
    "# Получение информации о структуре таблицы hr_dataset\n",
    "\n",
    "hr_df = pd.read_sql_query('select * from hr_dataset', conn).info()\n",
    "hr_df"
   ]
  },
  {
   "cell_type": "code",
   "execution_count": 2,
   "metadata": {},
   "outputs": [
    {
     "name": "stdout",
     "output_type": "stream",
     "text": [
      "<class 'pandas.core.frame.DataFrame'>\n",
      "RangeIndex: 256 entries, 0 to 255\n",
      "Data columns (total 16 columns):\n",
      " #   Column               Non-Null Count  Dtype  \n",
      "---  ------               --------------  -----  \n",
      " 0   id                   256 non-null    int64  \n",
      " 1   Employee Name        209 non-null    object \n",
      " 2   Race Desc            209 non-null    object \n",
      " 3   Date of Hire         209 non-null    object \n",
      " 4   TermDate             83 non-null     object \n",
      " 5   Reason for Term      209 non-null    object \n",
      " 6   Employment Status    209 non-null    object \n",
      " 7   Department           209 non-null    object \n",
      " 8   Position             209 non-null    object \n",
      " 9   Pay                  209 non-null    object \n",
      " 10  Manager Name         209 non-null    object \n",
      " 11  Performance Score    209 non-null    object \n",
      " 12  Abutments/Hour Wk 1  208 non-null    float64\n",
      " 13  Abutments/Hour Wk 2  208 non-null    float64\n",
      " 14  Daily Error Rate     208 non-null    float64\n",
      " 15  90-day Complaints    208 non-null    float64\n",
      "dtypes: float64(4), int64(1), object(11)\n",
      "memory usage: 32.1+ KB\n"
     ]
    }
   ],
   "source": [
    "# Получение информации о структуре таблицы production_staff\n",
    "pd.read_sql_query('select * from production_staff', conn).info()\n"
   ]
  },
  {
   "cell_type": "code",
   "execution_count": 3,
   "metadata": {},
   "outputs": [
    {
     "name": "stdout",
     "output_type": "stream",
     "text": [
      "<class 'pandas.core.frame.DataFrame'>\n",
      "RangeIndex: 22 entries, 0 to 21\n",
      "Data columns (total 15 columns):\n",
      " #   Column             Non-Null Count  Dtype \n",
      "---  ------             --------------  ----- \n",
      " 0   id                 22 non-null     int64 \n",
      " 1   Employment Source  22 non-null     object\n",
      " 2   January            22 non-null     int64 \n",
      " 3   February           22 non-null     int64 \n",
      " 4   March              22 non-null     int64 \n",
      " 5   April              22 non-null     int64 \n",
      " 6   May                22 non-null     int64 \n",
      " 7   June               22 non-null     int64 \n",
      " 8   July               22 non-null     int64 \n",
      " 9   August             22 non-null     int64 \n",
      " 10  September          22 non-null     int64 \n",
      " 11  October            22 non-null     int64 \n",
      " 12  November           22 non-null     int64 \n",
      " 13  December           22 non-null     int64 \n",
      " 14  Total              22 non-null     int64 \n",
      "dtypes: int64(14), object(1)\n",
      "memory usage: 2.7+ KB\n"
     ]
    }
   ],
   "source": [
    "# Получение информации о структуре таблицы recruiting_cost\n",
    "pd.read_sql_query('select * from recruiting_costs', conn).info()"
   ]
  },
  {
   "cell_type": "code",
   "execution_count": 4,
   "metadata": {},
   "outputs": [
    {
     "name": "stdout",
     "output_type": "stream",
     "text": [
      "<class 'pandas.core.frame.DataFrame'>\n",
      "RangeIndex: 12 entries, 0 to 11\n",
      "Data columns (total 8 columns):\n",
      " #   Column      Non-Null Count  Dtype  \n",
      "---  ------      --------------  -----  \n",
      " 0   id          12 non-null     int64  \n",
      " 1   Position    12 non-null     object \n",
      " 2   Salary Min  12 non-null     int64  \n",
      " 3   Salary Mid  12 non-null     int64  \n",
      " 4   Salary Max  12 non-null     int64  \n",
      " 5   Hourly Min  12 non-null     float64\n",
      " 6   Hourly Mid  12 non-null     float64\n",
      " 7   Hourly Max  12 non-null     float64\n",
      "dtypes: float64(3), int64(4), object(1)\n",
      "memory usage: 896.0+ bytes\n"
     ]
    }
   ],
   "source": [
    "# Получение информации о структуре таблицы salary_grid\n",
    "pd.read_sql_query(\"select * from salary_grid\", conn).info()"
   ]
  },
  {
   "cell_type": "code",
   "execution_count": 66,
   "metadata": {},
   "outputs": [
    {
     "data": {
      "text/html": [
       "<div>\n",
       "<style scoped>\n",
       "    .dataframe tbody tr th:only-of-type {\n",
       "        vertical-align: middle;\n",
       "    }\n",
       "\n",
       "    .dataframe tbody tr th {\n",
       "        vertical-align: top;\n",
       "    }\n",
       "\n",
       "    .dataframe thead th {\n",
       "        text-align: right;\n",
       "    }\n",
       "</style>\n",
       "<table border=\"1\" class=\"dataframe\">\n",
       "  <thead>\n",
       "    <tr style=\"text-align: right;\">\n",
       "      <th></th>\n",
       "      <th>Возраст</th>\n",
       "      <th>СрОшиб</th>\n",
       "      <th>СрЗарпл</th>\n",
       "    </tr>\n",
       "  </thead>\n",
       "  <tbody>\n",
       "    <tr>\n",
       "      <th>0</th>\n",
       "      <td>25-30</td>\n",
       "      <td>0.826087</td>\n",
       "      <td>34.217059</td>\n",
       "    </tr>\n",
       "    <tr>\n",
       "      <th>1</th>\n",
       "      <td>30-35</td>\n",
       "      <td>1.000000</td>\n",
       "      <td>29.663444</td>\n",
       "    </tr>\n",
       "    <tr>\n",
       "      <th>2</th>\n",
       "      <td>35-40</td>\n",
       "      <td>1.069767</td>\n",
       "      <td>30.248644</td>\n",
       "    </tr>\n",
       "    <tr>\n",
       "      <th>3</th>\n",
       "      <td>40-45</td>\n",
       "      <td>0.738095</td>\n",
       "      <td>29.223800</td>\n",
       "    </tr>\n",
       "    <tr>\n",
       "      <th>4</th>\n",
       "      <td>45-50</td>\n",
       "      <td>0.764706</td>\n",
       "      <td>34.774138</td>\n",
       "    </tr>\n",
       "    <tr>\n",
       "      <th>5</th>\n",
       "      <td>50-55</td>\n",
       "      <td>1.166667</td>\n",
       "      <td>33.700000</td>\n",
       "    </tr>\n",
       "    <tr>\n",
       "      <th>6</th>\n",
       "      <td>55-60</td>\n",
       "      <td>0.500000</td>\n",
       "      <td>21.000000</td>\n",
       "    </tr>\n",
       "    <tr>\n",
       "      <th>7</th>\n",
       "      <td>60-65</td>\n",
       "      <td>0.500000</td>\n",
       "      <td>39.583333</td>\n",
       "    </tr>\n",
       "  </tbody>\n",
       "</table>\n",
       "</div>"
      ],
      "text/plain": [
       "  Возраст    СрОшиб    СрЗарпл\n",
       "0   25-30  0.826087  34.217059\n",
       "1   30-35  1.000000  29.663444\n",
       "2   35-40  1.069767  30.248644\n",
       "3   40-45  0.738095  29.223800\n",
       "4   45-50  0.764706  34.774138\n",
       "5   50-55  1.166667  33.700000\n",
       "6   55-60  0.500000  21.000000\n",
       "7   60-65  0.500000  39.583333"
      ]
     },
     "execution_count": 66,
     "metadata": {},
     "output_type": "execute_result"
    }
   ],
   "source": [
    "# Получение из базы данных информации по ошибкам сотрудников компании в зависимости от возраста\n",
    "column = 'age'\n",
    "sql_query = '''\n",
    "    select\n",
    "    CASE WHEN hr.age BETWEEN 25 AND 30 THEN '25-30'\n",
    "         WHEN hr.age BETWEEN 30 AND 35 THEN '30-35'\n",
    "         WHEN hr.age BETWEEN 35 AND 40 THEN '35-40'\n",
    "         WHEN hr.age BETWEEN 40 AND 45 THEN '40-45'\n",
    "         WHEN hr.age BETWEEN 45 AND 50 THEN '45-50'\n",
    "         WHEN hr.age BETWEEN 50 AND 55 THEN '50-55'\n",
    "         WHEN hr.age BETWEEN 55 AND 60 THEN '55-60'\n",
    "         WHEN hr.age BETWEEN 60 AND 65 THEN '60-65'\n",
    "         WHEN hr.age BETWEEN 65 AND 70 THEN '30-35'\n",
    "         ELSE '0'\n",
    "    END as Возраст, avg(pr.\"Daily Error Rate\") as СрОшиб,avg(hr.\"Pay Rate\") as СрЗарпл \n",
    "    from hr_dataset hr \n",
    "    left join production_staff pr on \n",
    "        (hr.\"Employee Name\" = pr.\"Employee Name\") and (hr.\"Date of Hire\" = pr.\"Date of Hire\") and \n",
    "        (hr.position = pr.\"Position\") group by Возраст order by Возраст'''\n",
    "staff_df = pd.read_sql_query(sql_query, conn).fillna(0)\n",
    "staff_df"
   ]
  },
  {
   "cell_type": "code",
   "execution_count": 67,
   "metadata": {},
   "outputs": [
    {
     "data": {
      "image/png": "[encoded data removed]",
      "text/plain": [
       "<Figure size 864x432 with 1 Axes>"
      ]
     },
     "metadata": {
      "needs_background": "light"
     },
     "output_type": "display_data"
    },
    {
     "data": {
      "image/png": "[encoded data removed]",
      "text/plain": [
       "<Figure size 864x432 with 1 Axes>"
      ]
     },
     "metadata": {
      "needs_background": "light"
     },
     "output_type": "display_data"
    }
   ],
   "source": [
    "fig, ax = plt.subplots(figsize = (12,6))\n",
    "sns.barplot(data=staff_df, x = staff_df['Возраст'], y=staff_df['СрОшиб'])\n",
    "fig, ax = plt.subplots(figsize = (12,6))\n",
    "ax.set_title('Среднее количество ошибок сотрудников компании в зависимости от возраста')\n",
    "ax.set_xlabel('Возраст сотрудников ')\n",
    "ax.set_ylabel('Среднее количество ошибок')\n",
    "sns.barplot(data=staff_df, x = staff_df['Возраст'], y=staff_df['СрЗарпл'])\n",
    "ax.set_title('Средняя зарплата сотрудников компании в зависимости от возраста')\n",
    "ax.set_xlabel('Возраст сотрудников ')\n",
    "ax.set_ylabel('Средняя зарплата')\n",
    "plt.show()"
   ]
  },
  {
   "cell_type": "code",
   "execution_count": 7,
   "metadata": {},
   "outputs": [
    {
     "data": {
      "text/html": [
       "<div>\n",
       "<style scoped>\n",
       "    .dataframe tbody tr th:only-of-type {\n",
       "        vertical-align: middle;\n",
       "    }\n",
       "\n",
       "    .dataframe tbody tr th {\n",
       "        vertical-align: top;\n",
       "    }\n",
       "\n",
       "    .dataframe thead th {\n",
       "        text-align: right;\n",
       "    }\n",
       "</style>\n",
       "<table border=\"1\" class=\"dataframe\">\n",
       "  <thead>\n",
       "    <tr style=\"text-align: right;\">\n",
       "      <th></th>\n",
       "      <th>marriedid</th>\n",
       "      <th>СрОшиб</th>\n",
       "      <th>СрЗарпл</th>\n",
       "    </tr>\n",
       "  </thead>\n",
       "  <tbody>\n",
       "    <tr>\n",
       "      <th>0</th>\n",
       "      <td>0</td>\n",
       "      <td>0.880952</td>\n",
       "      <td>30.956684</td>\n",
       "    </tr>\n",
       "    <tr>\n",
       "      <th>1</th>\n",
       "      <td>1</td>\n",
       "      <td>0.962025</td>\n",
       "      <td>31.783659</td>\n",
       "    </tr>\n",
       "  </tbody>\n",
       "</table>\n",
       "</div>"
      ],
      "text/plain": [
       "   marriedid    СрОшиб    СрЗарпл\n",
       "0          0  0.880952  30.956684\n",
       "1          1  0.962025  31.783659"
      ]
     },
     "execution_count": 7,
     "metadata": {},
     "output_type": "execute_result"
    }
   ],
   "source": [
    "# Получение из базы данных информации по ошибкам сотрудников компании в зависимости от семейного положения\n",
    "column = 'marriedid'\n",
    "sql_query = '''\n",
    "    select hr.'''+column+''', avg(pr.\"Daily Error Rate\") as СрОшиб,avg(hr.\"Pay Rate\") as СрЗарпл \n",
    "    from hr_dataset hr \n",
    "    left join production_staff pr on \n",
    "        (hr.\"Employee Name\" = pr.\"Employee Name\") and (hr.\"Date of Hire\" = pr.\"Date of Hire\") and \n",
    "        (hr.position = pr.\"Position\") group by hr.'''+column+''' order by hr.'''+column+''''''\n",
    "staff_df = pd.read_sql_query(sql_query, conn).fillna(0)\n",
    "staff_df#.describe()"
   ]
  },
  {
   "cell_type": "code",
   "execution_count": 8,
   "metadata": {},
   "outputs": [
    {
     "data": {
      "text/plain": [
       "Text(0, 0.5, 'Средняя зарплата')"
      ]
     },
     "execution_count": 8,
     "metadata": {},
     "output_type": "execute_result"
    },
    {
     "data": {
      "image/png": "[encoded data removed]",
      "text/plain": [
       "<Figure size 360x360 with 1 Axes>"
      ]
     },
     "metadata": {
      "needs_background": "light"
     },
     "output_type": "display_data"
    },
    {
     "data": {
      "image/png": "[encoded data removed]",
      "text/plain": [
       "<Figure size 360x360 with 1 Axes>"
      ]
     },
     "metadata": {
      "needs_background": "light"
     },
     "output_type": "display_data"
    }
   ],
   "source": [
    "fig, ax = plt.subplots(figsize = (5,5))\n",
    "sns.barplot(data=staff_df, x = staff_df[column], y=staff_df['СрОшиб'])\n",
    "\n",
    "ax.set_title('Среднее количество ошибок сотрудников компании в зависимости от семейного положения')\n",
    "ax.set_xlabel('Семейное положение сотрудников ')\n",
    "ax.set_ylabel('Среднее количество ошибок')\n",
    "fig, ax = plt.subplots(figsize = (5,5))\n",
    "sns.barplot(data=staff_df, x = staff_df[column], y=staff_df['СрЗарпл'])\n",
    "ax.set_title('Средняя зарплата сотрудников компании в зависимости от семейного положения')\n",
    "ax.set_xlabel('Семейное положение сотрудников ')\n",
    "ax.set_ylabel('Средняя зарплата')\n",
    "#plt.show()"
   ]
  },
  {
   "cell_type": "code",
   "execution_count": 9,
   "metadata": {},
   "outputs": [
    {
     "data": {
      "text/html": [
       "<div>\n",
       "<style scoped>\n",
       "    .dataframe tbody tr th:only-of-type {\n",
       "        vertical-align: middle;\n",
       "    }\n",
       "\n",
       "    .dataframe tbody tr th {\n",
       "        vertical-align: top;\n",
       "    }\n",
       "\n",
       "    .dataframe thead th {\n",
       "        text-align: right;\n",
       "    }\n",
       "</style>\n",
       "<table border=\"1\" class=\"dataframe\">\n",
       "  <thead>\n",
       "    <tr style=\"text-align: right;\">\n",
       "      <th></th>\n",
       "      <th>maritalstatusid</th>\n",
       "      <th>avg</th>\n",
       "    </tr>\n",
       "  </thead>\n",
       "  <tbody>\n",
       "    <tr>\n",
       "      <th>count</th>\n",
       "      <td>5.000000</td>\n",
       "      <td>5.000000</td>\n",
       "    </tr>\n",
       "    <tr>\n",
       "      <th>mean</th>\n",
       "      <td>2.000000</td>\n",
       "      <td>0.875834</td>\n",
       "    </tr>\n",
       "    <tr>\n",
       "      <th>std</th>\n",
       "      <td>1.581139</td>\n",
       "      <td>0.126060</td>\n",
       "    </tr>\n",
       "    <tr>\n",
       "      <th>min</th>\n",
       "      <td>0.000000</td>\n",
       "      <td>0.708333</td>\n",
       "    </tr>\n",
       "    <tr>\n",
       "      <th>25%</th>\n",
       "      <td>1.000000</td>\n",
       "      <td>0.777778</td>\n",
       "    </tr>\n",
       "    <tr>\n",
       "      <th>50%</th>\n",
       "      <td>2.000000</td>\n",
       "      <td>0.931034</td>\n",
       "    </tr>\n",
       "    <tr>\n",
       "      <th>75%</th>\n",
       "      <td>3.000000</td>\n",
       "      <td>0.962025</td>\n",
       "    </tr>\n",
       "    <tr>\n",
       "      <th>max</th>\n",
       "      <td>4.000000</td>\n",
       "      <td>1.000000</td>\n",
       "    </tr>\n",
       "  </tbody>\n",
       "</table>\n",
       "</div>"
      ],
      "text/plain": [
       "       maritalstatusid       avg\n",
       "count         5.000000  5.000000\n",
       "mean          2.000000  0.875834\n",
       "std           1.581139  0.126060\n",
       "min           0.000000  0.708333\n",
       "25%           1.000000  0.777778\n",
       "50%           2.000000  0.931034\n",
       "75%           3.000000  0.962025\n",
       "max           4.000000  1.000000"
      ]
     },
     "execution_count": 9,
     "metadata": {},
     "output_type": "execute_result"
    }
   ],
   "source": [
    "# Получение из базы данных информации по ошибкам сотрудников компании в зависимости от материального положения\n",
    "column = 'maritalstatusid'\n",
    "sql_query = '''\n",
    "    select hr.'''+column+''', avg(pr.\"Daily Error Rate\") \n",
    "    from hr_dataset hr \n",
    "    left join production_staff pr on \n",
    "        (hr.\"Employee Name\" = pr.\"Employee Name\") and (hr.\"Date of Hire\" = pr.\"Date of Hire\") and \n",
    "        (hr.position = pr.\"Position\") group by hr.'''+column+''' order by hr.'''+column+''''''\n",
    "staff_df = pd.read_sql_query(sql_query, conn).fillna(0)\n",
    "staff_df.describe()"
   ]
  },
  {
   "cell_type": "code",
   "execution_count": 10,
   "metadata": {},
   "outputs": [
    {
     "data": {
      "text/plain": [
       "Text(0, 0.5, 'среднее количество ошибок')"
      ]
     },
     "execution_count": 10,
     "metadata": {},
     "output_type": "execute_result"
    },
    {
     "data": {
      "image/png": "[encoded data removed]",
      "text/plain": [
       "<Figure size 360x360 with 1 Axes>"
      ]
     },
     "metadata": {
      "needs_background": "light"
     },
     "output_type": "display_data"
    }
   ],
   "source": [
    "fig, ax = plt.subplots(figsize = (5,5))\n",
    "plt.bar(staff_df[column],staff_df['avg'])\n",
    "plt.title('Среднее количество ежедневных ошибок в зависимости от материального статуса')\n",
    "plt.xlabel('материальное положение работников ')\n",
    "plt.ylabel('среднее количество ошибок')"
   ]
  },
  {
   "cell_type": "code",
   "execution_count": 69,
   "metadata": {},
   "outputs": [
    {
     "data": {
      "text/html": [
       "<div>\n",
       "<style scoped>\n",
       "    .dataframe tbody tr th:only-of-type {\n",
       "        vertical-align: middle;\n",
       "    }\n",
       "\n",
       "    .dataframe tbody tr th {\n",
       "        vertical-align: top;\n",
       "    }\n",
       "\n",
       "    .dataframe thead th {\n",
       "        text-align: right;\n",
       "    }\n",
       "</style>\n",
       "<table border=\"1\" class=\"dataframe\">\n",
       "  <thead>\n",
       "    <tr style=\"text-align: right;\">\n",
       "      <th></th>\n",
       "      <th>Возраст</th>\n",
       "      <th>Пол</th>\n",
       "      <th>СрОшиб</th>\n",
       "      <th>СрЗарпл</th>\n",
       "    </tr>\n",
       "  </thead>\n",
       "  <tbody>\n",
       "    <tr>\n",
       "      <th>0</th>\n",
       "      <td>25-30</td>\n",
       "      <td>Male</td>\n",
       "      <td>0.600000</td>\n",
       "      <td>36.735294</td>\n",
       "    </tr>\n",
       "    <tr>\n",
       "      <th>1</th>\n",
       "      <td>25-30</td>\n",
       "      <td>Female</td>\n",
       "      <td>0.888889</td>\n",
       "      <td>32.957941</td>\n",
       "    </tr>\n",
       "    <tr>\n",
       "      <th>2</th>\n",
       "      <td>30-35</td>\n",
       "      <td>Male</td>\n",
       "      <td>0.640000</td>\n",
       "      <td>31.350476</td>\n",
       "    </tr>\n",
       "    <tr>\n",
       "      <th>3</th>\n",
       "      <td>30-35</td>\n",
       "      <td>Female</td>\n",
       "      <td>1.257143</td>\n",
       "      <td>28.187292</td>\n",
       "    </tr>\n",
       "    <tr>\n",
       "      <th>4</th>\n",
       "      <td>35-40</td>\n",
       "      <td>Female</td>\n",
       "      <td>1.363636</td>\n",
       "      <td>30.762727</td>\n",
       "    </tr>\n",
       "    <tr>\n",
       "      <th>5</th>\n",
       "      <td>35-40</td>\n",
       "      <td>Male</td>\n",
       "      <td>0.761905</td>\n",
       "      <td>29.596154</td>\n",
       "    </tr>\n",
       "    <tr>\n",
       "      <th>6</th>\n",
       "      <td>40-45</td>\n",
       "      <td>Male</td>\n",
       "      <td>0.764706</td>\n",
       "      <td>33.170455</td>\n",
       "    </tr>\n",
       "    <tr>\n",
       "      <th>7</th>\n",
       "      <td>40-45</td>\n",
       "      <td>Female</td>\n",
       "      <td>0.720000</td>\n",
       "      <td>26.122857</td>\n",
       "    </tr>\n",
       "    <tr>\n",
       "      <th>8</th>\n",
       "      <td>45-50</td>\n",
       "      <td>Male</td>\n",
       "      <td>0.250000</td>\n",
       "      <td>47.503846</td>\n",
       "    </tr>\n",
       "    <tr>\n",
       "      <th>9</th>\n",
       "      <td>45-50</td>\n",
       "      <td>Female</td>\n",
       "      <td>0.923077</td>\n",
       "      <td>24.431250</td>\n",
       "    </tr>\n",
       "    <tr>\n",
       "      <th>10</th>\n",
       "      <td>50-55</td>\n",
       "      <td>Female</td>\n",
       "      <td>1.125000</td>\n",
       "      <td>33.458333</td>\n",
       "    </tr>\n",
       "    <tr>\n",
       "      <th>11</th>\n",
       "      <td>50-55</td>\n",
       "      <td>Male</td>\n",
       "      <td>1.250000</td>\n",
       "      <td>34.022222</td>\n",
       "    </tr>\n",
       "    <tr>\n",
       "      <th>12</th>\n",
       "      <td>55-60</td>\n",
       "      <td>Male</td>\n",
       "      <td>0.333333</td>\n",
       "      <td>20.666667</td>\n",
       "    </tr>\n",
       "    <tr>\n",
       "      <th>13</th>\n",
       "      <td>55-60</td>\n",
       "      <td>Female</td>\n",
       "      <td>1.000000</td>\n",
       "      <td>22.000000</td>\n",
       "    </tr>\n",
       "    <tr>\n",
       "      <th>14</th>\n",
       "      <td>60-65</td>\n",
       "      <td>Male</td>\n",
       "      <td>0.000000</td>\n",
       "      <td>55.500000</td>\n",
       "    </tr>\n",
       "    <tr>\n",
       "      <th>15</th>\n",
       "      <td>60-65</td>\n",
       "      <td>Female</td>\n",
       "      <td>0.500000</td>\n",
       "      <td>36.400000</td>\n",
       "    </tr>\n",
       "  </tbody>\n",
       "</table>\n",
       "</div>"
      ],
      "text/plain": [
       "   Возраст     Пол    СрОшиб    СрЗарпл\n",
       "0    25-30    Male  0.600000  36.735294\n",
       "1    25-30  Female  0.888889  32.957941\n",
       "2    30-35    Male  0.640000  31.350476\n",
       "3    30-35  Female  1.257143  28.187292\n",
       "4    35-40  Female  1.363636  30.762727\n",
       "5    35-40    Male  0.761905  29.596154\n",
       "6    40-45    Male  0.764706  33.170455\n",
       "7    40-45  Female  0.720000  26.122857\n",
       "8    45-50    Male  0.250000  47.503846\n",
       "9    45-50  Female  0.923077  24.431250\n",
       "10   50-55  Female  1.125000  33.458333\n",
       "11   50-55    Male  1.250000  34.022222\n",
       "12   55-60    Male  0.333333  20.666667\n",
       "13   55-60  Female  1.000000  22.000000\n",
       "14   60-65    Male  0.000000  55.500000\n",
       "15   60-65  Female  0.500000  36.400000"
      ]
     },
     "execution_count": 69,
     "metadata": {},
     "output_type": "execute_result"
    }
   ],
   "source": [
    "# Получение из базы данных информации по ошибкам и зп сотрудников компании в зависимости от возраста и пола \n",
    "\n",
    "column = 'age'\n",
    "column1 = 'sex'\n",
    "sql_query = '''\n",
    "    select \n",
    "    CASE WHEN hr.age BETWEEN 25 AND 30 THEN '25-30'\n",
    "         WHEN hr.age BETWEEN 30 AND 35 THEN '30-35'\n",
    "         WHEN hr.age BETWEEN 35 AND 40 THEN '35-40'\n",
    "         WHEN hr.age BETWEEN 40 AND 45 THEN '40-45'\n",
    "         WHEN hr.age BETWEEN 45 AND 50 THEN '45-50'\n",
    "         WHEN hr.age BETWEEN 50 AND 55 THEN '50-55'\n",
    "         WHEN hr.age BETWEEN 55 AND 60 THEN '55-60'\n",
    "         WHEN hr.age BETWEEN 60 AND 65 THEN '60-65'\n",
    "         WHEN hr.age BETWEEN 65 AND 70 THEN '30-35'\n",
    "         ELSE '0'\n",
    "    END as Возраст, hr.'''+column1+''' as Пол, avg(pr.\"Daily Error Rate\") as СрОшиб,avg(hr.\"Pay Rate\") as СрЗарпл \n",
    "    from hr_dataset hr \n",
    "    left join production_staff pr on \n",
    "        (hr.\"Employee Name\" = pr.\"Employee Name\") and (hr.\"Date of Hire\" = pr.\"Date of Hire\") and \n",
    "        (hr.position = pr.\"Position\") group by Возраст, hr.'''+column1+''' order by Возраст'''\n",
    "staff_df = pd.read_sql_query(sql_query, conn).fillna(0)\n",
    "staff_df#.describe()"
   ]
  },
  {
   "cell_type": "code",
   "execution_count": 70,
   "metadata": {},
   "outputs": [
    {
     "data": {
      "image/png": "[encoded data removed]",
      "text/plain": [
       "<Figure size 864x432 with 1 Axes>"
      ]
     },
     "metadata": {
      "needs_background": "light"
     },
     "output_type": "display_data"
    },
    {
     "data": {
      "image/png": "[encoded data removed]",
      "text/plain": [
       "<Figure size 864x432 with 1 Axes>"
      ]
     },
     "metadata": {
      "needs_background": "light"
     },
     "output_type": "display_data"
    }
   ],
   "source": [
    "fig, ax = plt.subplots(figsize = (12,6))\n",
    "sns.barplot(data=staff_df, x = staff_df['Возраст'], y=staff_df['СрОшиб'],hue ='Пол')\n",
    "\n",
    "ax.set_title('Среднее количество ошибок сотрудников компании в зависимости от возраста и пола')\n",
    "ax.set_xlabel('Возраст сотрудников ')\n",
    "ax.set_ylabel('Среднее количество ошибок')\n",
    "fig, ax = plt.subplots(figsize = (12,6))\n",
    "sns.barplot(data=staff_df, x = staff_df['Возраст'], y=staff_df['СрЗарпл'],hue ='Пол')\n",
    "ax.set_title('Средняя зарплата сотрудников компании в зависимости от возраста и пола')\n",
    "ax.set_xlabel('Возраст сотрудников ')\n",
    "ax.set_ylabel('Средняя зарплата')\n",
    "plt.show()"
   ]
  },
  {
   "cell_type": "code",
   "execution_count": 51,
   "metadata": {},
   "outputs": [
    {
     "data": {
      "text/html": [
       "<div>\n",
       "<style scoped>\n",
       "    .dataframe tbody tr th:only-of-type {\n",
       "        vertical-align: middle;\n",
       "    }\n",
       "\n",
       "    .dataframe tbody tr th {\n",
       "        vertical-align: top;\n",
       "    }\n",
       "\n",
       "    .dataframe thead th {\n",
       "        text-align: right;\n",
       "    }\n",
       "</style>\n",
       "<table border=\"1\" class=\"dataframe\">\n",
       "  <thead>\n",
       "    <tr style=\"text-align: right;\">\n",
       "      <th></th>\n",
       "      <th>Длительность работы</th>\n",
       "      <th>СрОшиб</th>\n",
       "      <th>СрЗарпл</th>\n",
       "    </tr>\n",
       "  </thead>\n",
       "  <tbody>\n",
       "    <tr>\n",
       "      <th>0</th>\n",
       "      <td>1</td>\n",
       "      <td>0.961538</td>\n",
       "      <td>29.607895</td>\n",
       "    </tr>\n",
       "    <tr>\n",
       "      <th>1</th>\n",
       "      <td>2</td>\n",
       "      <td>1.208333</td>\n",
       "      <td>33.973513</td>\n",
       "    </tr>\n",
       "    <tr>\n",
       "      <th>2</th>\n",
       "      <td>3</td>\n",
       "      <td>0.954545</td>\n",
       "      <td>32.190000</td>\n",
       "    </tr>\n",
       "    <tr>\n",
       "      <th>3</th>\n",
       "      <td>4</td>\n",
       "      <td>0.844444</td>\n",
       "      <td>30.818429</td>\n",
       "    </tr>\n",
       "    <tr>\n",
       "      <th>4</th>\n",
       "      <td>5</td>\n",
       "      <td>0.975610</td>\n",
       "      <td>27.256458</td>\n",
       "    </tr>\n",
       "    <tr>\n",
       "      <th>5</th>\n",
       "      <td>6</td>\n",
       "      <td>0.807692</td>\n",
       "      <td>32.288056</td>\n",
       "    </tr>\n",
       "    <tr>\n",
       "      <th>6</th>\n",
       "      <td>7</td>\n",
       "      <td>0.692308</td>\n",
       "      <td>32.135909</td>\n",
       "    </tr>\n",
       "    <tr>\n",
       "      <th>7</th>\n",
       "      <td>8</td>\n",
       "      <td>0.000000</td>\n",
       "      <td>38.771429</td>\n",
       "    </tr>\n",
       "    <tr>\n",
       "      <th>8</th>\n",
       "      <td>9</td>\n",
       "      <td>0.000000</td>\n",
       "      <td>42.987500</td>\n",
       "    </tr>\n",
       "    <tr>\n",
       "      <th>9</th>\n",
       "      <td>10</td>\n",
       "      <td>1.000000</td>\n",
       "      <td>24.750000</td>\n",
       "    </tr>\n",
       "    <tr>\n",
       "      <th>10</th>\n",
       "      <td>11</td>\n",
       "      <td>3.000000</td>\n",
       "      <td>17.000000</td>\n",
       "    </tr>\n",
       "    <tr>\n",
       "      <th>11</th>\n",
       "      <td>12</td>\n",
       "      <td>0.000000</td>\n",
       "      <td>55.000000</td>\n",
       "    </tr>\n",
       "  </tbody>\n",
       "</table>\n",
       "</div>"
      ],
      "text/plain": [
       "    Длительность работы    СрОшиб    СрЗарпл\n",
       "0                     1  0.961538  29.607895\n",
       "1                     2  1.208333  33.973513\n",
       "2                     3  0.954545  32.190000\n",
       "3                     4  0.844444  30.818429\n",
       "4                     5  0.975610  27.256458\n",
       "5                     6  0.807692  32.288056\n",
       "6                     7  0.692308  32.135909\n",
       "7                     8  0.000000  38.771429\n",
       "8                     9  0.000000  42.987500\n",
       "9                    10  1.000000  24.750000\n",
       "10                   11  3.000000  17.000000\n",
       "11                   12  0.000000  55.000000"
      ]
     },
     "execution_count": 51,
     "metadata": {},
     "output_type": "execute_result"
    }
   ],
   "source": [
    "# Получение из базы данных информации по ошибкам сотрудников компании в зависимости от времени работы в компании\n",
    "column = 'Days Employed'\n",
    "sql_query = '''\n",
    "    select \n",
    "       CASE WHEN hr.\"Days Employed\" < 365 THEN 1\n",
    "            WHEN hr.\"Days Employed\" BETWEEN 365 AND 730 THEN 2\n",
    "            WHEN hr.\"Days Employed\" BETWEEN 730 AND 1095 THEN 3\n",
    "            WHEN hr.\"Days Employed\" BETWEEN 1095 AND 1460  THEN 4\n",
    "            WHEN hr.\"Days Employed\" BETWEEN 1460 AND 1825 THEN 5\n",
    "            WHEN hr.\"Days Employed\" BETWEEN 1825 AND 2190 THEN 6\n",
    "            WHEN hr.\"Days Employed\" BETWEEN 2190 AND 2555 THEN 7\n",
    "            WHEN hr.\"Days Employed\" BETWEEN 2555 AND 2920 THEN 8\n",
    "            WHEN hr.\"Days Employed\" BETWEEN 2920 AND 3285 THEN 9\n",
    "            WHEN hr.\"Days Employed\" BETWEEN 3285 AND 3650 THEN 10\n",
    "            WHEN hr.\"Days Employed\" BETWEEN 3650 AND 4015 THEN 11\n",
    "            WHEN hr.\"Days Employed\" BETWEEN 4015 AND 4380 THEN 12\n",
    "       ELSE '0'\n",
    "    END as \"Длительность работы\",   \n",
    "    avg(pr.\"Daily Error Rate\") as СрОшиб,avg(hr.\"Pay Rate\") as СрЗарпл \n",
    "    from hr_dataset hr \n",
    "    left join production_staff pr on \n",
    "        (hr.\"Employee Name\" = pr.\"Employee Name\") and (hr.\"Date of Hire\" = pr.\"Date of Hire\") and \n",
    "        (hr.position = pr.\"Position\") group by \"Длительность работы\" order by \"Длительность работы\"'''\n",
    "staff_df = pd.read_sql_query(sql_query, conn).fillna(0)\n",
    "staff_df#.describe()"
   ]
  },
  {
   "cell_type": "code",
   "execution_count": 53,
   "metadata": {},
   "outputs": [
    {
     "data": {
      "text/plain": [
       "Text(0, 0.5, 'Среднее количество ошибок')"
      ]
     },
     "execution_count": 53,
     "metadata": {},
     "output_type": "execute_result"
    },
    {
     "data": {
      "image/png": "[encoded data removed]",
      "text/plain": [
       "<Figure size 1080x432 with 1 Axes>"
      ]
     },
     "metadata": {
      "needs_background": "light"
     },
     "output_type": "display_data"
    }
   ],
   "source": [
    "fig, ax = plt.subplots(figsize = (15,6))\n",
    "sns.barplot(data=staff_df, x = staff_df[\"Длительность работы\"], y=staff_df['СрОшиб'])\n",
    "ax.set_title('Среднее количество ошибок сотрудников компании в зависимости от времени работы в компании')\n",
    "ax.set_xlabel('Количество лет работы в компании')\n",
    "ax.set_ylabel('Среднее количество ошибок')\n"
   ]
  },
  {
   "cell_type": "code",
   "execution_count": 55,
   "metadata": {},
   "outputs": [
    {
     "data": {
      "text/plain": [
       "Text(0, 0.5, 'Средняя зарплата')"
      ]
     },
     "execution_count": 55,
     "metadata": {},
     "output_type": "execute_result"
    },
    {
     "data": {
      "image/png": "[encoded data removed]",
      "text/plain": [
       "<Figure size 1080x432 with 1 Axes>"
      ]
     },
     "metadata": {
      "needs_background": "light"
     },
     "output_type": "display_data"
    }
   ],
   "source": [
    "fig, ax = plt.subplots(figsize = (15,6))\n",
    "sns.barplot(data=staff_df, x = staff_df[\"Длительность работы\"], y=staff_df['СрЗарпл'])\n",
    "ax.set_title('Среднее количество ошибок сотрудников компании в зависимости от времени работы в компании')\n",
    "ax.set_xlabel('Количество лет работы в компании')\n",
    "ax.set_ylabel('Средняя зарплата')"
   ]
  },
  {
   "cell_type": "code",
   "execution_count": 2,
   "metadata": {},
   "outputs": [
    {
     "data": {
      "text/html": [
       "<div>\n",
       "<style scoped>\n",
       "    .dataframe tbody tr th:only-of-type {\n",
       "        vertical-align: middle;\n",
       "    }\n",
       "\n",
       "    .dataframe tbody tr th {\n",
       "        vertical-align: top;\n",
       "    }\n",
       "\n",
       "    .dataframe thead th {\n",
       "        text-align: right;\n",
       "    }\n",
       "</style>\n",
       "<table border=\"1\" class=\"dataframe\">\n",
       "  <thead>\n",
       "    <tr style=\"text-align: right;\">\n",
       "      <th></th>\n",
       "      <th>daily_error_rate</th>\n",
       "    </tr>\n",
       "    <tr>\n",
       "      <th>citizendesc</th>\n",
       "      <th></th>\n",
       "    </tr>\n",
       "  </thead>\n",
       "  <tbody>\n",
       "    <tr>\n",
       "      <th>Eligible NonCitizen</th>\n",
       "      <td>0.750000</td>\n",
       "    </tr>\n",
       "    <tr>\n",
       "      <th>Non-Citizen</th>\n",
       "      <td>1.250000</td>\n",
       "    </tr>\n",
       "    <tr>\n",
       "      <th>US Citizen</th>\n",
       "      <td>0.588435</td>\n",
       "    </tr>\n",
       "  </tbody>\n",
       "</table>\n",
       "</div>"
      ],
      "text/plain": [
       "                     daily_error_rate\n",
       "citizendesc                          \n",
       "Eligible NonCitizen          0.750000\n",
       "Non-Citizen                  1.250000\n",
       "US Citizen                   0.588435"
      ]
     },
     "execution_count": 2,
     "metadata": {},
     "output_type": "execute_result"
    }
   ],
   "source": [
    "# Получение из базы данных информации по сотрудникам компании\n",
    "sql_query = '''\n",
    "    select hr.citizendesc, pr.\"Daily Error Rate\" as daily_error_rate\n",
    "    from hr_dataset hr \n",
    "    left join production_staff pr on \n",
    "        (hr.\"Employee Name\" = pr.\"Employee Name\") and (hr.\"Date of Hire\" = pr.\"Date of Hire\") and \n",
    "        (hr.position = pr.\"Position\")'''\n",
    "\n",
    "staff_df = pd.read_sql_query(sql_query, conn).fillna(0)\n",
    "\n",
    "# Вывод среднего числа ежедневных ошибок у групп сотрудников из категории \"citizendesc\"\n",
    "staff_df.pivot_table(values='daily_error_rate', index='citizendesc', aggfunc=np.mean)"
   ]
  },
  {
   "cell_type": "code",
   "execution_count": 3,
   "metadata": {},
   "outputs": [
    {
     "data": {
      "image/png": "[encoded data removed]",
      "text/plain": [
       "<Figure size 432x288 with 1 Axes>"
      ]
     },
     "metadata": {
      "needs_background": "light"
     },
     "output_type": "display_data"
    }
   ],
   "source": [
    "# Переход в интерактивный режим построения графиков и диаграмм\n",
    "%matplotlib inline\n",
    "\n",
    "# Импорт библиотеки Matplotlib\n",
    "import matplotlib.pyplot as plt\n",
    "# Определение основных объектов диаграммы\n",
    "fig, ax = plt.subplots(figsize=(6, 4))\n",
    "\n",
    "# Отражение среднего числа ежедневных ошибок у групп сотрудников из категории \"citizendesc\"\n",
    "staff_df.pivot_table(values='daily_error_rate', index='citizendesc', aggfunc=np.mean).plot.bar(\n",
    "    ax=ax, width=0.2, title='Среднее количество ежедневных ошибок у\\n групп сотрудников в категории \"citizendesc\"', \n",
    "    rot=0, legend=None)\n",
    "\n",
    "# Вывод подписей осей координат\n",
    "ax.set_xlabel('Иммигранты и неграждане страны')\n",
    "ax.set_ylabel('Среднее количество ежедневных ошибок')\n",
    "\n",
    "# Отображение диаграмм на странице\n",
    "plt.show()"
   ]
  },
  {
   "cell_type": "markdown",
   "metadata": {},
   "source": [
    "Выводы:\n",
    "   До 40 лет больше ошибок совершают женщины. Среднее количество ошибок резко возрастает в 66 лет. Причем все эти ошибки совершают сотрудники женского пола. Среди мужчин максимальное среднее количество ошибок совершается в 51 год.\n",
    "Зарплата сотрудников после 28 лет и до 33 лет равномерно снижается не зависимо от пола, c 33 до 53 зарплата мужчин и женщин заметно различается в пользу мужчин.\n",
    "Семейное положение почти не влияет на количество ошибок. Семейное положение почти не влияет на зарплату, однако холостые и незамужние совершают немного меньше ошибок, их средняя зарплата немного ниже.\n",
    "   Сотрудники являющиеся гражданами Соединенных Штатов Америки более добросовестно выполняют работу и значительно меньше допускают ежедневных ошибок.\n",
    "   Первые 6 лет работы в компании количество ежедневных ошибок, совершаемых сотрудником одинаково. Количество ежедневных ошибок резко уменьшается с 7 до 10 лет работы в компании, сотрудники совершают меньше всего ошибок. Нужно мотивировать сотрудника на продолжение работы в компании. Резкий рост ошибок наблюдается после 10 лет работы в компании. Средняя зарплата на протяжении первых 5 лет работы в компании не меняется, следующие 4 года наблюдается рост средней зарплаты и резкое уменьшение зарплаты в 10 и 11-й годы работы в компании. Сотрудники, работающие 12-й год в компании получают наибольшую среднюю зарплату.      \n",
    "   Наиболее знычимыми факторами, повышающими ценность сотрудника для компании, является опыт работы в компании, начиная с 6 лет непрерывной работы необходимо мотивировать сотрудника продолжать сотрудничество с компанией. После 10 лет работы в компании сотрудник выгорает, совершает больше ошибок, возможно, необходимо улучшить условия труда таких сотрудников, чтобы не происходило выгорания.\n",
    "   При найме персонала, можно рекомендовать следующее:\n",
    "сотрудник должен быть гражданином Соединенных Штатов Америки, не важно мужчина или женщина в возрасте до 32 лет, либо мужчина после 32 до 50 лет, либо женщина после 40 лет до 60 лет. Лучше чтобы сотрудник имел среднее материальное положение и был холост, не замужем."
   ]
  }
 ],
 "metadata": {
  "colab": {
   "collapsed_sections": [],
   "name": "Coursework_analytics_2.ipynb",
   "provenance": []
  },
  "kernelspec": {
   "display_name": "Python 3",
   "language": "python",
   "name": "python3"
  },
  "language_info": {
   "codemirror_mode": {
    "name": "ipython",
    "version": 3
   },
   "file_extension": ".py",
   "mimetype": "text/x-python",
   "name": "python",
   "nbconvert_exporter": "python",
   "pygments_lexer": "ipython3",
   "version": "3.8.8"
  }
 },
 "nbformat": 4,
 "nbformat_minor": 1
}
